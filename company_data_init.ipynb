{
 "cells": [
  {
   "cell_type": "code",
   "execution_count": 2,
   "metadata": {},
   "outputs": [
    {
     "name": "stdout",
     "output_type": "stream",
     "text": [
      "The autoreload extension is already loaded. To reload it, use:\n",
      "  %reload_ext autoreload\n"
     ]
    }
   ],
   "source": [
    "%load_ext autoreload\n",
    "%autoreload 2\n",
    "\n",
    "import pandas as pd\n",
    "import os\n",
    "import numpy as np\n",
    "import seaborn as sns\n",
    "import matplotlib.pyplot as plt\n",
    "# import plotly.express as px\n",
    "\n",
    "from data_preparation_utils import *"
   ]
  },
  {
   "cell_type": "code",
   "execution_count": 3,
   "metadata": {},
   "outputs": [],
   "source": [
    "df_free_allowances_eu = get_allocation_over_years(austrian=False)\n",
    "df_free_allowances_melted_eu = get_allocation_melted(df_free_allowances_eu)"
   ]
  },
  {
   "cell_type": "code",
   "execution_count": 4,
   "metadata": {},
   "outputs": [
    {
     "data": {
      "text/plain": [
       "Index(['REGISTRY_CODE', 'IDENTIFIER_IN_REG', 'INSTALLATION_NAME',\n",
       "       'INSTALLATION_IDENTIFIER', 'PERMIT_IDENTIFIER',\n",
       "       'MAIN_ACTIVITY_TYPE_CODE', 'year', 'ACCOUNT_CLOSURE', 'ALLOCATION_',\n",
       "       'ALLOCATION_RESERVE_', 'ALLOCATION_TRANSITIONAL_', 'ALLOCATION_DIFF_',\n",
       "       'CH_ALLOCATION_', 'VERIFIED_EMISSIONS_', 'CH_VERIFIED_EMISSIONS_',\n",
       "       'ALLOCATION_DIFF_NORM_'],\n",
       "      dtype='object')"
      ]
     },
     "execution_count": 4,
     "metadata": {},
     "output_type": "execute_result"
    }
   ],
   "source": [
    "df_free_allowances_melted_eu.columns"
   ]
  },
  {
   "cell_type": "code",
   "execution_count": null,
   "metadata": {},
   "outputs": [],
   "source": []
  }
 ],
 "metadata": {
  "kernelspec": {
   "display_name": "Python 3.11.0 ('modsim')",
   "language": "python",
   "name": "python3"
  },
  "language_info": {
   "codemirror_mode": {
    "name": "ipython",
    "version": 3
   },
   "file_extension": ".py",
   "mimetype": "text/x-python",
   "name": "python",
   "nbconvert_exporter": "python",
   "pygments_lexer": "ipython3",
   "version": "3.11.0"
  },
  "orig_nbformat": 4,
  "vscode": {
   "interpreter": {
    "hash": "1a23ca94408d9b42b4ae667c2a461cf20dce7e240bb1d9705e2cd556b3cd7890"
   }
  }
 },
 "nbformat": 4,
 "nbformat_minor": 2
}
